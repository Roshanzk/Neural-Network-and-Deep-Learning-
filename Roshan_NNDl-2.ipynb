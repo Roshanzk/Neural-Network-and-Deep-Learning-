{
 "cells": [
  {
   "cell_type": "markdown",
   "id": "769f909f-af70-4d10-96f5-3e915e29cf73",
   "metadata": {},
   "source": [
    "NNDL_Assignment_Roshan_230201927"
   ]
  },
  {
   "cell_type": "markdown",
   "id": "73c6f4ba-24dc-483f-bd72-225a3c992b97",
   "metadata": {},
   "source": [
    "Importing libraries "
   ]
  },
  {
   "cell_type": "code",
   "execution_count": 2,
   "id": "75e3ad05-b925-4793-8425-63c65eb49295",
   "metadata": {},
   "outputs": [],
   "source": [
    "import torch\n",
    "import matplotlib.pyplot as plt\n",
    "from torch.utils.data import DataLoader\n",
    "from torchvision import datasets, transforms\n",
    "from torch import nn\n",
    "from torch.optim import Adam\n",
    "from torch.optim.lr_scheduler import ReduceLROnPlateau\n",
    "from torch.nn import functional as F\n",
    "import torch.nn.init as init"
   ]
  },
  {
   "cell_type": "markdown",
   "id": "0fecb1ab-b492-4945-a876-562fb3690fd3",
   "metadata": {},
   "source": [
    "connecting to GPU in available "
   ]
  },
  {
   "cell_type": "code",
   "execution_count": 3,
   "id": "54e6bbec-acb9-4e57-95b6-67a80679c525",
   "metadata": {},
   "outputs": [
    {
     "name": "stdout",
     "output_type": "stream",
     "text": [
      "NVIDIA A100 80GB PCIe\n"
     ]
    }
   ],
   "source": [
    "# Check CUDA device name\n",
    "if torch.cuda.is_available():\n",
    "    print(torch.cuda.get_device_name(0))\n",
    "\n",
    "# Device configuration\n",
    "device = torch.device('cuda' if torch.cuda.is_available() else 'cpu')\n"
   ]
  },
  {
   "cell_type": "markdown",
   "id": "e7d9ecd3-580d-46dc-b277-89f0717f15ab",
   "metadata": {},
   "source": [
    "Data Augmentation "
   ]
  },
  {
   "cell_type": "code",
   "execution_count": 4,
   "id": "2250e266-bfe6-463c-a53c-59b62ab536b0",
   "metadata": {},
   "outputs": [],
   "source": [
    "# Define transformations and load the dataset\n",
    "transform_train = transforms.Compose([\n",
    "    transforms.RandomHorizontalFlip(),\n",
    "    transforms.RandomCrop(32, padding=4),\n",
    "    transforms.ColorJitter(brightness=0.2, contrast=0.2, saturation=0.2, hue=0.1),\n",
    "    transforms.RandomRotation(15),\n",
    "    transforms.ToTensor(),\n",
    "    transforms.Normalize((0.4914, 0.4822, 0.4465), (0.2023, 0.2154, 0.229))\n",
    "])\n",
    "\n",
    "transform_test = transforms.Compose([\n",
    "    transforms.ToTensor(),\n",
    "    transforms.Normalize((0.4914, 0.4822, 0.4465), (0.2023, 0.2154, 0.229))\n",
    "])"
   ]
  },
  {
   "cell_type": "markdown",
   "id": "04deceba-8e51-423a-9b8f-9ff1579bc399",
   "metadata": {},
   "source": [
    "Loading the CIFAR-10 Dataset"
   ]
  },
  {
   "cell_type": "code",
   "execution_count": 5,
   "id": "35d60f22-0d7c-4905-8165-7fc7f6872717",
   "metadata": {},
   "outputs": [
    {
     "name": "stdout",
     "output_type": "stream",
     "text": [
      "Files already downloaded and verified\n",
      "Files already downloaded and verified\n"
     ]
    }
   ],
   "source": [
    "# Load the CIFAR-10 dataset\n",
    "train_dataset = datasets.CIFAR10(root='./data', train=True, download=True, transform=transform_train)\n",
    "test_dataset = datasets.CIFAR10(root='./data', train=False, download=True, transform=transform_test)\n",
    "\n",
    "# Create DataLoaders for training and testing sets\n",
    "batch_size = 128\n",
    "train_loader = DataLoader(train_dataset, batch_size=batch_size, shuffle=True)\n",
    "test_loader = DataLoader(test_dataset, batch_size=batch_size, shuffle=False)\n"
   ]
  },
  {
   "cell_type": "markdown",
   "id": "c0c23a2d-772f-4b83-b08d-17a3a5d989c3",
   "metadata": {},
   "source": [
    "Defining the Architecture of the model"
   ]
  },
  {
   "cell_type": "code",
   "execution_count": 6,
   "id": "fb788d06-23af-438f-a1ed-ce0ec257070d",
   "metadata": {},
   "outputs": [],
   "source": [
    "# # Define IntermediateBlock according to the given structure\n",
    "class IntermediateBlock(nn.Module):\n",
    "    def __init__(self, in_channels, num_conv_layers):\n",
    "        super(IntermediateBlock, self).__init__()\n",
    "        self.conv_layers = nn.ModuleList([nn.Conv2d(in_channels, in_channels, kernel_size=3, padding=1) for _ in range(num_conv_layers)])\n",
    "        self.batch_norms = nn.ModuleList([nn.BatchNorm2d(in_channels) for _ in range(num_conv_layers)])\n",
    "        self.fc = nn.Linear(in_channels, in_channels)\n",
    "        self.sigmoid = nn.Sigmoid()\n",
    "\n",
    "    def forward(self, x):\n",
    "        conv_outputs = []\n",
    "        for conv, bn in zip(self.conv_layers, self.batch_norms):\n",
    "            out = conv(x)\n",
    "            out = bn(out)\n",
    "            out = F.relu(out)\n",
    "            conv_outputs.append(out)\n",
    "\n",
    "        # Combine convolutional layer outputs\n",
    "        combined_output = torch.stack(conv_outputs, dim=0).sum(dim=0)  # Sum along the stack dimension\n",
    "\n",
    "        # Compute the average value of each channel using the original input x\n",
    "        avg_pool = F.avg_pool2d(x, x.size()[2:]).squeeze()\n",
    "\n",
    "        # Compute learnable parameters using a fully connected layer\n",
    "        a = self.fc(avg_pool)\n",
    "        a = self.sigmoid(a)\n",
    "        \n",
    "        # Multiply each channel by its corresponding learnable parameter\n",
    "        out = combined_output * a.unsqueeze(-1).unsqueeze(-1)\n",
    "\n",
    "       \n",
    "        return out\n",
    "\n",
    "\n",
    "# Define OutputBlock according to the given structure\n",
    "class OutputBlock(nn.Module):\n",
    "    def __init__(self, in_channels, num_classes):\n",
    "        super(OutputBlock, self).__init__()\n",
    "        self.avg_pool = nn.AdaptiveAvgPool2d((1, 1))\n",
    "        self.fc = nn.Linear(in_channels, num_classes)\n",
    "\n",
    "    def forward(self, x):\n",
    "        out = self.avg_pool(x)\n",
    "        out = out.view(out.size(0), -1)\n",
    "        out = self.fc(out)\n",
    "        return out\n",
    "\n",
    "# Define ImprovedArchitecture\n",
    "class ImprovedArchitecture(nn.Module):\n",
    "    def __init__(self, num_blocks, num_conv_layers_per_block, num_classes=10):\n",
    "        super(ImprovedArchitecture, self).__init__()\n",
    "        self.conv1 = nn.Conv2d(3, 32, kernel_size=3, padding=1)\n",
    "        self.conv2 = nn.Conv2d(32, 64, kernel_size=3, padding=1)\n",
    "        self.conv3 = nn.Conv2d(64, 128, kernel_size=3, padding=1)\n",
    "        self.pool = nn.MaxPool2d(2, 2)\n",
    "        self.blocks = nn.ModuleList([\n",
    "            IntermediateBlock(128, num_conv_layers_per_block) for _ in range(num_blocks)\n",
    "        ])\n",
    "        self.output_block = OutputBlock(128, num_classes)\n",
    "\n",
    "    def forward(self, x):\n",
    "        x = F.relu(self.conv1(x))\n",
    "        x = self.pool(F.relu(self.conv2(x)))\n",
    "        x = self.pool(F.relu(self.conv3(x)))\n",
    "        for block in self.blocks:\n",
    "            x = block(x)\n",
    "        x = self.output_block(x)\n",
    "        return x\n"
   ]
  },
  {
   "cell_type": "markdown",
   "id": "00a5f60e-7201-4feb-bd78-76807fd6f11a",
   "metadata": {},
   "source": [
    "define the initialization"
   ]
  },
  {
   "cell_type": "code",
   "execution_count": 7,
   "id": "4a42050f-05f4-444e-b4b9-ca9c8e1f7dbe",
   "metadata": {},
   "outputs": [],
   "source": [
    "# Function to initialize weights using Xavier initialization\n",
    "def weights_init(m):\n",
    "    if isinstance(m, nn.Conv2d) or isinstance(m, nn.Linear):\n",
    "        init.xavier_uniform_(m.weight.data)"
   ]
  },
  {
   "cell_type": "code",
   "execution_count": 8,
   "id": "9b749bc1-35bf-4dae-a413-a4b3f84e33b8",
   "metadata": {},
   "outputs": [],
   "source": [
    "# Function to train the model\n",
    "def train(model, train_loader, test_loader, optimizer, criterion, scheduler, device, num_epochs):\n",
    "    train_losses = []\n",
    "    train_accuracies = []\n",
    "    test_accuracies = []\n",
    "\n",
    "    best_test_accuracy = 0.0\n",
    "\n",
    "    for epoch in range(num_epochs):\n",
    "        model.train()\n",
    "        total_loss = 0.0\n",
    "        correct_train = 0\n",
    "        total_train = 0\n",
    "        for batch_idx, (images, labels) in enumerate(train_loader):\n",
    "            images, labels = images.to(device), labels.to(device)\n",
    "            optimizer.zero_grad()\n",
    "            outputs = model(images)\n",
    "            loss = criterion(outputs, labels)\n",
    "            loss.backward()\n",
    "            optimizer.step()\n",
    "\n",
    "            total_loss += loss.item()\n",
    "            _, predicted = torch.max(outputs.data, 1)\n",
    "            total_train += labels.size(0)\n",
    "            correct_train += (predicted == labels).sum().item()\n",
    "\n",
    "            # Print training statistics\n",
    "            if (batch_idx + 1) % 100 == 0:\n",
    "                print(f'Epoch [{epoch + 1}/{num_epochs}], Step [{batch_idx + 1}/{len(train_loader)}], Train Loss: {loss.item():.4f}, Train Accuracy: {100 * correct_train / total_train:.2f}%')\n",
    "\n",
    "        train_losses.append(total_loss / len(train_loader))\n",
    "        train_accuracy = 100 * correct_train / total_train\n",
    "        train_accuracies.append(train_accuracy)\n",
    "\n",
    "        # Evaluate the model on the test set\n",
    "        test_accuracy = test(model, test_loader, device)\n",
    "\n",
    "        # Step the scheduler\n",
    "        scheduler.step(test_accuracy)\n",
    "\n",
    "        # Save the model if it achieved the best test accuracy\n",
    "        if test_accuracy > best_test_accuracy:\n",
    "            best_test_accuracy = test_accuracy\n",
    "            torch.save(model.state_dict(), 'best_model.pth')\n",
    "\n",
    "        print(f'Epoch [{epoch + 1}/{num_epochs}], Train Accuracy: {train_accuracy:.2f}%, Test Accuracy: {test_accuracy:.2f}%')\n",
    "\n",
    "        test_accuracies.append(test_accuracy)\n",
    "\n",
    "    return train_losses, train_accuracies, test_accuracies\n",
    "\n",
    "# Function to test the model\n",
    "def test(model, test_loader, device):\n",
    "    model.eval()\n",
    "    correct = 0\n",
    "    total = 0\n",
    "    with torch.no_grad():\n",
    "        for images, labels in test_loader:\n",
    "            images, labels = images.to(device), labels.to(device)\n",
    "            outputs = model(images)\n",
    "            _, predicted = torch.max(outputs.data, 1)\n",
    "            total += labels.size(0)\n",
    "            correct += (predicted == labels).sum().item()\n",
    "\n",
    "    return 100 * correct / total\n"
   ]
  },
  {
   "cell_type": "markdown",
   "id": "3bddee3c-fc8d-419f-9d72-274961ff062b",
   "metadata": {},
   "source": [
    "define model"
   ]
  },
  {
   "cell_type": "code",
   "execution_count": 9,
   "id": "2e458764-ac00-4b46-88f2-2c3c5358019c",
   "metadata": {},
   "outputs": [],
   "source": [
    "# Initialize the model, loss function, optimizer, and learning rate scheduler\n",
    "model = ImprovedArchitecture(num_blocks=3, num_conv_layers_per_block=2).to(device)\n",
    "model.apply(weights_init)\n",
    "criterion = nn.CrossEntropyLoss()\n",
    "optimizer = Adam(model.parameters(), lr=0.001)\n",
    "scheduler = ReduceLROnPlateau(optimizer, mode='max', patience=5, factor=0.5, verbose=True)"
   ]
  },
  {
   "cell_type": "code",
   "execution_count": 10,
   "id": "345eba60-57d1-4c82-b852-78f95a369f10",
   "metadata": {},
   "outputs": [
    {
     "name": "stdout",
     "output_type": "stream",
     "text": [
      "Epoch [1/40], Step [100/391], Train Loss: 1.4728, Train Accuracy: 35.00%\n",
      "Epoch [1/40], Step [200/391], Train Loss: 1.6542, Train Accuracy: 41.03%\n",
      "Epoch [1/40], Step [300/391], Train Loss: 1.2718, Train Accuracy: 45.45%\n",
      "Epoch [1/40], Train Accuracy: 48.44%, Test Accuracy: 53.65%\n",
      "Epoch [2/40], Step [100/391], Train Loss: 1.2978, Train Accuracy: 61.01%\n",
      "Epoch [2/40], Step [200/391], Train Loss: 0.9241, Train Accuracy: 62.21%\n",
      "Epoch [2/40], Step [300/391], Train Loss: 0.8985, Train Accuracy: 63.46%\n",
      "Epoch [2/40], Train Accuracy: 64.52%, Test Accuracy: 66.27%\n",
      "Epoch [3/40], Step [100/391], Train Loss: 0.7173, Train Accuracy: 70.02%\n",
      "Epoch [3/40], Step [200/391], Train Loss: 0.9472, Train Accuracy: 69.88%\n",
      "Epoch [3/40], Step [300/391], Train Loss: 0.9317, Train Accuracy: 70.41%\n",
      "Epoch [3/40], Train Accuracy: 70.57%, Test Accuracy: 69.61%\n",
      "Epoch [4/40], Step [100/391], Train Loss: 0.7374, Train Accuracy: 73.20%\n",
      "Epoch [4/40], Step [200/391], Train Loss: 0.6964, Train Accuracy: 73.57%\n",
      "Epoch [4/40], Step [300/391], Train Loss: 0.8220, Train Accuracy: 73.60%\n",
      "Epoch [4/40], Train Accuracy: 73.71%, Test Accuracy: 67.73%\n",
      "Epoch [5/40], Step [100/391], Train Loss: 0.7304, Train Accuracy: 75.02%\n",
      "Epoch [5/40], Step [200/391], Train Loss: 0.6268, Train Accuracy: 75.38%\n",
      "Epoch [5/40], Step [300/391], Train Loss: 0.6021, Train Accuracy: 75.76%\n",
      "Epoch [5/40], Train Accuracy: 75.99%, Test Accuracy: 76.47%\n",
      "Epoch [6/40], Step [100/391], Train Loss: 0.5490, Train Accuracy: 77.80%\n",
      "Epoch [6/40], Step [200/391], Train Loss: 0.5635, Train Accuracy: 77.85%\n",
      "Epoch [6/40], Step [300/391], Train Loss: 0.7708, Train Accuracy: 77.79%\n",
      "Epoch [6/40], Train Accuracy: 77.73%, Test Accuracy: 76.88%\n",
      "Epoch [7/40], Step [100/391], Train Loss: 0.5733, Train Accuracy: 78.74%\n",
      "Epoch [7/40], Step [200/391], Train Loss: 0.5541, Train Accuracy: 78.95%\n",
      "Epoch [7/40], Step [300/391], Train Loss: 0.3869, Train Accuracy: 79.04%\n",
      "Epoch [7/40], Train Accuracy: 79.15%, Test Accuracy: 79.93%\n",
      "Epoch [8/40], Step [100/391], Train Loss: 0.6919, Train Accuracy: 80.38%\n",
      "Epoch [8/40], Step [200/391], Train Loss: 0.7493, Train Accuracy: 80.46%\n",
      "Epoch [8/40], Step [300/391], Train Loss: 0.5504, Train Accuracy: 80.39%\n",
      "Epoch [8/40], Train Accuracy: 80.35%, Test Accuracy: 77.22%\n",
      "Epoch [9/40], Step [100/391], Train Loss: 0.4500, Train Accuracy: 81.02%\n",
      "Epoch [9/40], Step [200/391], Train Loss: 0.3729, Train Accuracy: 80.93%\n",
      "Epoch [9/40], Step [300/391], Train Loss: 0.6027, Train Accuracy: 81.10%\n",
      "Epoch [9/40], Train Accuracy: 81.12%, Test Accuracy: 79.03%\n",
      "Epoch [10/40], Step [100/391], Train Loss: 0.4612, Train Accuracy: 82.18%\n",
      "Epoch [10/40], Step [200/391], Train Loss: 0.5875, Train Accuracy: 81.89%\n",
      "Epoch [10/40], Step [300/391], Train Loss: 0.3565, Train Accuracy: 81.81%\n",
      "Epoch [10/40], Train Accuracy: 81.79%, Test Accuracy: 83.41%\n",
      "Epoch [11/40], Step [100/391], Train Loss: 0.4820, Train Accuracy: 82.27%\n",
      "Epoch [11/40], Step [200/391], Train Loss: 0.4741, Train Accuracy: 82.42%\n",
      "Epoch [11/40], Step [300/391], Train Loss: 0.5678, Train Accuracy: 82.59%\n",
      "Epoch [11/40], Train Accuracy: 82.50%, Test Accuracy: 80.75%\n",
      "Epoch [12/40], Step [100/391], Train Loss: 0.3734, Train Accuracy: 83.76%\n",
      "Epoch [12/40], Step [200/391], Train Loss: 0.5318, Train Accuracy: 83.29%\n",
      "Epoch [12/40], Step [300/391], Train Loss: 0.5216, Train Accuracy: 83.18%\n",
      "Epoch [12/40], Train Accuracy: 83.35%, Test Accuracy: 84.17%\n",
      "Epoch [13/40], Step [100/391], Train Loss: 0.4667, Train Accuracy: 83.96%\n",
      "Epoch [13/40], Step [200/391], Train Loss: 0.4848, Train Accuracy: 83.86%\n",
      "Epoch [13/40], Step [300/391], Train Loss: 0.5006, Train Accuracy: 83.67%\n",
      "Epoch [13/40], Train Accuracy: 83.76%, Test Accuracy: 84.25%\n",
      "Epoch [14/40], Step [100/391], Train Loss: 0.5161, Train Accuracy: 84.95%\n",
      "Epoch [14/40], Step [200/391], Train Loss: 0.4135, Train Accuracy: 84.64%\n",
      "Epoch [14/40], Step [300/391], Train Loss: 0.2888, Train Accuracy: 84.68%\n",
      "Epoch [14/40], Train Accuracy: 84.42%, Test Accuracy: 83.30%\n",
      "Epoch [15/40], Step [100/391], Train Loss: 0.3839, Train Accuracy: 85.61%\n",
      "Epoch [15/40], Step [200/391], Train Loss: 0.3370, Train Accuracy: 85.18%\n",
      "Epoch [15/40], Step [300/391], Train Loss: 0.5094, Train Accuracy: 84.98%\n",
      "Epoch [15/40], Train Accuracy: 85.09%, Test Accuracy: 83.74%\n",
      "Epoch [16/40], Step [100/391], Train Loss: 0.3975, Train Accuracy: 85.40%\n",
      "Epoch [16/40], Step [200/391], Train Loss: 0.3358, Train Accuracy: 85.30%\n",
      "Epoch [16/40], Step [300/391], Train Loss: 0.4025, Train Accuracy: 85.34%\n",
      "Epoch [16/40], Train Accuracy: 85.36%, Test Accuracy: 86.53%\n",
      "Epoch [17/40], Step [100/391], Train Loss: 0.3671, Train Accuracy: 85.86%\n",
      "Epoch [17/40], Step [200/391], Train Loss: 0.3622, Train Accuracy: 85.93%\n",
      "Epoch [17/40], Step [300/391], Train Loss: 0.3906, Train Accuracy: 85.92%\n",
      "Epoch [17/40], Train Accuracy: 85.87%, Test Accuracy: 86.44%\n",
      "Epoch [18/40], Step [100/391], Train Loss: 0.3797, Train Accuracy: 87.01%\n",
      "Epoch [18/40], Step [200/391], Train Loss: 0.4917, Train Accuracy: 86.61%\n",
      "Epoch [18/40], Step [300/391], Train Loss: 0.4571, Train Accuracy: 86.44%\n",
      "Epoch [18/40], Train Accuracy: 86.45%, Test Accuracy: 85.18%\n",
      "Epoch [19/40], Step [100/391], Train Loss: 0.2973, Train Accuracy: 87.16%\n",
      "Epoch [19/40], Step [200/391], Train Loss: 0.3907, Train Accuracy: 86.95%\n",
      "Epoch [19/40], Step [300/391], Train Loss: 0.5283, Train Accuracy: 86.80%\n",
      "Epoch [19/40], Train Accuracy: 86.89%, Test Accuracy: 86.17%\n",
      "Epoch [20/40], Step [100/391], Train Loss: 0.3935, Train Accuracy: 86.98%\n",
      "Epoch [20/40], Step [200/391], Train Loss: 0.3770, Train Accuracy: 87.04%\n",
      "Epoch [20/40], Step [300/391], Train Loss: 0.3843, Train Accuracy: 86.94%\n",
      "Epoch [20/40], Train Accuracy: 86.97%, Test Accuracy: 85.76%\n",
      "Epoch [21/40], Step [100/391], Train Loss: 0.4266, Train Accuracy: 87.47%\n",
      "Epoch [21/40], Step [200/391], Train Loss: 0.2409, Train Accuracy: 87.62%\n",
      "Epoch [21/40], Step [300/391], Train Loss: 0.3419, Train Accuracy: 87.57%\n",
      "Epoch [21/40], Train Accuracy: 87.46%, Test Accuracy: 85.43%\n",
      "Epoch [22/40], Step [100/391], Train Loss: 0.6121, Train Accuracy: 87.80%\n",
      "Epoch [22/40], Step [200/391], Train Loss: 0.2994, Train Accuracy: 87.57%\n",
      "Epoch [22/40], Step [300/391], Train Loss: 0.3678, Train Accuracy: 87.50%\n",
      "Epoch 00022: reducing learning rate of group 0 to 5.0000e-04.\n",
      "Epoch [22/40], Train Accuracy: 87.60%, Test Accuracy: 86.30%\n",
      "Epoch [23/40], Step [100/391], Train Loss: 0.3862, Train Accuracy: 89.61%\n",
      "Epoch [23/40], Step [200/391], Train Loss: 0.2067, Train Accuracy: 89.68%\n",
      "Epoch [23/40], Step [300/391], Train Loss: 0.2346, Train Accuracy: 89.53%\n",
      "Epoch [23/40], Train Accuracy: 89.51%, Test Accuracy: 88.25%\n",
      "Epoch [24/40], Step [100/391], Train Loss: 0.3342, Train Accuracy: 90.14%\n",
      "Epoch [24/40], Step [200/391], Train Loss: 0.2549, Train Accuracy: 90.45%\n",
      "Epoch [24/40], Step [300/391], Train Loss: 0.1529, Train Accuracy: 90.33%\n",
      "Epoch [24/40], Train Accuracy: 90.19%, Test Accuracy: 88.66%\n",
      "Epoch [25/40], Step [100/391], Train Loss: 0.2276, Train Accuracy: 90.32%\n",
      "Epoch [25/40], Step [200/391], Train Loss: 0.3407, Train Accuracy: 90.56%\n",
      "Epoch [25/40], Step [300/391], Train Loss: 0.3685, Train Accuracy: 90.50%\n",
      "Epoch [25/40], Train Accuracy: 90.39%, Test Accuracy: 87.88%\n",
      "Epoch [26/40], Step [100/391], Train Loss: 0.2899, Train Accuracy: 90.82%\n",
      "Epoch [26/40], Step [200/391], Train Loss: 0.3797, Train Accuracy: 90.93%\n",
      "Epoch [26/40], Step [300/391], Train Loss: 0.1897, Train Accuracy: 90.70%\n",
      "Epoch [26/40], Train Accuracy: 90.56%, Test Accuracy: 88.32%\n",
      "Epoch [27/40], Step [100/391], Train Loss: 0.2080, Train Accuracy: 91.06%\n",
      "Epoch [27/40], Step [200/391], Train Loss: 0.2386, Train Accuracy: 91.08%\n",
      "Epoch [27/40], Step [300/391], Train Loss: 0.2620, Train Accuracy: 90.90%\n",
      "Epoch [27/40], Train Accuracy: 90.77%, Test Accuracy: 88.16%\n",
      "Epoch [28/40], Step [100/391], Train Loss: 0.3347, Train Accuracy: 91.23%\n",
      "Epoch [28/40], Step [200/391], Train Loss: 0.2096, Train Accuracy: 91.14%\n",
      "Epoch [28/40], Step [300/391], Train Loss: 0.1880, Train Accuracy: 91.12%\n",
      "Epoch [28/40], Train Accuracy: 91.07%, Test Accuracy: 88.69%\n",
      "Epoch [29/40], Step [100/391], Train Loss: 0.2465, Train Accuracy: 91.43%\n",
      "Epoch [29/40], Step [200/391], Train Loss: 0.1933, Train Accuracy: 91.38%\n",
      "Epoch [29/40], Step [300/391], Train Loss: 0.3875, Train Accuracy: 91.35%\n",
      "Epoch [29/40], Train Accuracy: 91.35%, Test Accuracy: 88.98%\n",
      "Epoch [30/40], Step [100/391], Train Loss: 0.2459, Train Accuracy: 91.30%\n",
      "Epoch [30/40], Step [200/391], Train Loss: 0.1744, Train Accuracy: 91.28%\n",
      "Epoch [30/40], Step [300/391], Train Loss: 0.3020, Train Accuracy: 91.29%\n",
      "Epoch [30/40], Train Accuracy: 91.31%, Test Accuracy: 88.48%\n",
      "Epoch [31/40], Step [100/391], Train Loss: 0.1850, Train Accuracy: 91.54%\n",
      "Epoch [31/40], Step [200/391], Train Loss: 0.2774, Train Accuracy: 91.56%\n",
      "Epoch [31/40], Step [300/391], Train Loss: 0.3069, Train Accuracy: 91.46%\n",
      "Epoch [31/40], Train Accuracy: 91.46%, Test Accuracy: 88.89%\n",
      "Epoch [32/40], Step [100/391], Train Loss: 0.2873, Train Accuracy: 91.86%\n",
      "Epoch [32/40], Step [200/391], Train Loss: 0.2244, Train Accuracy: 91.89%\n",
      "Epoch [32/40], Step [300/391], Train Loss: 0.1916, Train Accuracy: 91.86%\n",
      "Epoch [32/40], Train Accuracy: 91.87%, Test Accuracy: 89.34%\n",
      "Epoch [33/40], Step [100/391], Train Loss: 0.2339, Train Accuracy: 92.18%\n",
      "Epoch [33/40], Step [200/391], Train Loss: 0.2668, Train Accuracy: 91.97%\n",
      "Epoch [33/40], Step [300/391], Train Loss: 0.2551, Train Accuracy: 91.92%\n",
      "Epoch [33/40], Train Accuracy: 91.81%, Test Accuracy: 88.91%\n",
      "Epoch [34/40], Step [100/391], Train Loss: 0.1670, Train Accuracy: 92.07%\n",
      "Epoch [34/40], Step [200/391], Train Loss: 0.2755, Train Accuracy: 91.98%\n",
      "Epoch [34/40], Step [300/391], Train Loss: 0.2840, Train Accuracy: 91.98%\n",
      "Epoch [34/40], Train Accuracy: 91.84%, Test Accuracy: 89.12%\n",
      "Epoch [35/40], Step [100/391], Train Loss: 0.2596, Train Accuracy: 92.57%\n",
      "Epoch [35/40], Step [200/391], Train Loss: 0.2987, Train Accuracy: 92.26%\n",
      "Epoch [35/40], Step [300/391], Train Loss: 0.2110, Train Accuracy: 92.31%\n",
      "Epoch [35/40], Train Accuracy: 92.12%, Test Accuracy: 88.87%\n",
      "Epoch [36/40], Step [100/391], Train Loss: 0.2009, Train Accuracy: 92.05%\n",
      "Epoch [36/40], Step [200/391], Train Loss: 0.2392, Train Accuracy: 92.20%\n",
      "Epoch [36/40], Step [300/391], Train Loss: 0.2699, Train Accuracy: 92.25%\n",
      "Epoch [36/40], Train Accuracy: 92.19%, Test Accuracy: 88.63%\n",
      "Epoch [37/40], Step [100/391], Train Loss: 0.1304, Train Accuracy: 92.47%\n",
      "Epoch [37/40], Step [200/391], Train Loss: 0.2296, Train Accuracy: 92.39%\n",
      "Epoch [37/40], Step [300/391], Train Loss: 0.2019, Train Accuracy: 92.30%\n",
      "Epoch [37/40], Train Accuracy: 92.32%, Test Accuracy: 89.04%\n",
      "Epoch [38/40], Step [100/391], Train Loss: 0.1818, Train Accuracy: 92.95%\n",
      "Epoch [38/40], Step [200/391], Train Loss: 0.1980, Train Accuracy: 92.76%\n",
      "Epoch [38/40], Step [300/391], Train Loss: 0.2252, Train Accuracy: 92.55%\n",
      "Epoch 00038: reducing learning rate of group 0 to 2.5000e-04.\n",
      "Epoch [38/40], Train Accuracy: 92.53%, Test Accuracy: 88.98%\n",
      "Epoch [39/40], Step [100/391], Train Loss: 0.2401, Train Accuracy: 93.41%\n",
      "Epoch [39/40], Step [200/391], Train Loss: 0.1612, Train Accuracy: 93.41%\n",
      "Epoch [39/40], Step [300/391], Train Loss: 0.1839, Train Accuracy: 93.39%\n",
      "Epoch [39/40], Train Accuracy: 93.42%, Test Accuracy: 89.83%\n",
      "Epoch [40/40], Step [100/391], Train Loss: 0.1099, Train Accuracy: 93.96%\n",
      "Epoch [40/40], Step [200/391], Train Loss: 0.2374, Train Accuracy: 93.88%\n",
      "Epoch [40/40], Step [300/391], Train Loss: 0.1353, Train Accuracy: 93.89%\n",
      "Epoch [40/40], Train Accuracy: 93.87%, Test Accuracy: 89.99%\n"
     ]
    }
   ],
   "source": [
    "# Train the model for 40 epochs\n",
    "num_epochs = 40\n",
    "train_losses, train_accuracies, test_accuracies = train(model, train_loader, test_loader, optimizer, criterion, scheduler, device, num_epochs)\n"
   ]
  },
  {
   "cell_type": "markdown",
   "id": "72235292-5dbb-4496-a61d-ca98ddd11a0d",
   "metadata": {},
   "source": [
    "plotting the accuracies "
   ]
  },
  {
   "cell_type": "code",
   "execution_count": 18,
   "id": "3cd7e219-0d82-436a-908a-6c5f4204a2cb",
   "metadata": {},
   "outputs": [
    {
     "data": {
      "image/png": "[encoded data removed]",
      "text/plain": [
       "<Figure size 640x480 with 1 Axes>"
      ]
     },
     "metadata": {},
     "output_type": "display_data"
    },
    {
     "data": {
      "image/png": "[encoded data removed]",
      "text/plain": [
       "<Figure size 640x480 with 1 Axes>"
      ]
     },
     "metadata": {},
     "output_type": "display_data"
    }
   ],
   "source": [
    "# Define the batch numbers\n",
    "batch_numbers = [i * 1000 for i in range(len(train_losses))]\n",
    "\n",
    "# Plot the loss for each batch\n",
    "plt.plot(batch_numbers, train_losses)\n",
    "plt.xlabel('Batch')\n",
    "plt.ylabel('Cross Entropy Loss')\n",
    "plt.title('Training Loss per Batch')\n",
    "plt.show()\n",
    "# Plots the training and testing accuracies\n",
    "plt.plot(train_accuracies, label='Training accuracy')\n",
    "plt.plot(test_accuracies, label='Testing accuracy')\n",
    "plt.legend(loc='best')\n",
    "plt.xlabel('Epoch')\n",
    "plt.ylabel('Accuracy (%)')\n",
    "plt.title('Training and Testing Accuracies')\n",
    "plt.show()\n"
   ]
  },
  {
   "cell_type": "code",
   "execution_count": null,
   "id": "9c520dc1-7c4b-4dd4-9c61-5a78c2576f92",
   "metadata": {},
   "outputs": [],
   "source": []
  }
 ],
 "metadata": {
  "kernelspec": {
   "display_name": "Python 3 (ipykernel)",
   "language": "python",
   "name": "python3"
  },
  "language_info": {
   "codemirror_mode": {
    "name": "ipython",
    "version": 3
   },
   "file_extension": ".py",
   "mimetype": "text/x-python",
   "name": "python",
   "nbconvert_exporter": "python",
   "pygments_lexer": "ipython3",
   "version": "3.11.7"
  }
 },
 "nbformat": 4,
 "nbformat_minor": 5
}
